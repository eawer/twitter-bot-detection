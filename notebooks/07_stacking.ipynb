{
 "cells": [
  {
   "cell_type": "code",
   "execution_count": 222,
   "metadata": {},
   "outputs": [],
   "source": [
    "import joblib\n",
    "import numpy as np\n",
    "import pandas as pd\n",
    "from xgboost import XGBClassifier\n",
    "from lightgbm import LGBMClassifier\n",
    "from catboost import CatBoostClassifier\n",
    "from sklearn.ensemble import ExtraTreesClassifier\n",
    "from sklearn.ensemble import RandomForestClassifier\n",
    "from pickle import load\n",
    "from vecstack import stacking\n",
    "from sklearn.metrics import accuracy_score, classification_report, f1_score"
   ]
  },
  {
   "cell_type": "code",
   "execution_count": 223,
   "metadata": {},
   "outputs": [],
   "source": [
    "X_train = pd.read_pickle(\"data/05_model_input/X_train.pkl\")\n",
    "X_test = pd.read_pickle(\"data/05_model_input/X_test.pkl\")\n",
    "y_train = pd.read_pickle(\"data/05_model_input/y_train.pkl\")\n",
    "y_test = pd.read_pickle(\"data/05_model_input/y_test.pkl\")"
   ]
  },
  {
   "cell_type": "code",
   "execution_count": 224,
   "metadata": {},
   "outputs": [],
   "source": [
    "params = {\n",
    "    \"iterations\": 2500,\n",
    "    \"learning_rate\": 0.02,\n",
    "    \"loss_function\": 'Logloss',\n",
    "    \"random_seed\": 1,\n",
    "    \"od_wait\": 30,\n",
    "    \"od_type\": \"Iter\",\n",
    "    \"thread_count\": 8,\n",
    "}\n",
    "catboost = CatBoostClassifier(**params)"
   ]
  },
  {
   "cell_type": "code",
   "execution_count": 186,
   "metadata": {},
   "outputs": [],
   "source": [
    "xgboost = XGBClassifier(random_state=0, n_jobs=-1, learning_rate=0.1, n_estimators=100, max_depth=20)\n",
    "lightgbm = LGBMClassifier(random_state=0, n_jobs=-1, learning_rate=0.1, n_estimators=100, max_depth=20)\n",
    "extra_trees = ExtraTreesClassifier(random_state=0, n_jobs=-1,  n_estimators=100, max_depth=20)\n",
    "random_forest = RandomForestClassifier(random_state=0, n_jobs=-1, n_estimators=100, max_depth=20)"
   ]
  },
  {
   "cell_type": "code",
   "execution_count": 198,
   "metadata": {},
   "outputs": [
    {
     "name": "stdout",
     "output_type": "stream",
     "text": [
      "task:         [classification]\n",
      "n_classes:    [2]\n",
      "metric:       [accuracy_score]\n",
      "mode:         [oof_pred_bag]\n",
      "n_models:     [4]\n",
      "\n",
      "model  0:     [LGBMClassifier]\n",
      "    fold  0:  [0.92805362]\n",
      "    fold  1:  [0.92805362]\n",
      "    fold  2:  [0.92012037]\n",
      "    fold  3:  [0.92641226]\n",
      "    ----\n",
      "    MEAN:     [0.92565996] + [0.00326773]\n",
      "    FULL:     [0.92565996]\n",
      "\n",
      "model  1:     [XGBClassifier]\n",
      "    fold  0:  [0.93174668]\n",
      "    fold  1:  [0.92627548]\n",
      "    fold  2:  [0.92531801]\n",
      "    fold  3:  [0.92736972]\n",
      "    ----\n",
      "    MEAN:     [0.92767747] + [0.00245895]\n",
      "    FULL:     [0.92767747]\n",
      "\n",
      "model  2:     [RandomForestClassifier]\n",
      "    fold  0:  [0.92559157]\n",
      "    fold  1:  [0.92695938]\n",
      "    fold  2:  [0.92189851]\n",
      "    fold  3:  [0.92490767]\n",
      "    ----\n",
      "    MEAN:     [0.92483928] + [0.00185159]\n",
      "    FULL:     [0.92483928]\n",
      "\n",
      "model  3:     [ExtraTreesClassifier]\n",
      "    fold  0:  [0.91615374]\n",
      "    fold  1:  [0.91464916]\n",
      "    fold  2:  [0.91259746]\n",
      "    fold  3:  [0.91328136]\n",
      "    ----\n",
      "    MEAN:     [0.91417043] + [0.00136266]\n",
      "    FULL:     [0.91417043]\n",
      "\n"
     ]
    }
   ],
   "source": [
    "S_train, S_test = stacking([catboost, lightgbm, xgboost, random_forest, extra_trees],\n",
    "                           X_train, y_train, X_test,   # data\n",
    "                           regression=False,           # classification task (if you need regression - set to True)\n",
    "                           mode='oof_pred_bag',        # mode: oof for train set, predict test set in each fold and vote\n",
    "                           needs_proba=False,          # predict class labels (if you need probabilities - set to True) \n",
    "                           save_dir=None,              # do not save result and log (to save in current dir - set to '.')\n",
    "                           metric=accuracy_score,      # metric: callable\n",
    "                           n_folds=4,                  # number of folds\n",
    "                           stratified=True,            # stratified split for folds\n",
    "                           shuffle=True,               # shuffle the data\n",
    "                           random_state=0,             # ensure reproduci\n",
    "                           verbose=2)                  # print all info"
   ]
  },
  {
   "cell_type": "code",
   "execution_count": 228,
   "metadata": {},
   "outputs": [
    {
     "name": "stdout",
     "output_type": "stream",
     "text": [
      "0:\tlearn: 0.6703931\ttotal: 25.7ms\tremaining: 1m 4s\n",
      "200:\tlearn: 0.2337598\ttotal: 2.37s\tremaining: 27.2s\n",
      "400:\tlearn: 0.2335558\ttotal: 4.39s\tremaining: 23s\n",
      "600:\tlearn: 0.2335526\ttotal: 6.26s\tremaining: 19.8s\n",
      "800:\tlearn: 0.2335526\ttotal: 8.22s\tremaining: 17.4s\n",
      "1000:\tlearn: 0.2335526\ttotal: 10.2s\tremaining: 15.3s\n",
      "1200:\tlearn: 0.2335526\ttotal: 12.4s\tremaining: 13.4s\n",
      "1400:\tlearn: 0.2335526\ttotal: 14.3s\tremaining: 11.3s\n",
      "1600:\tlearn: 0.2335526\ttotal: 16.4s\tremaining: 9.19s\n",
      "1800:\tlearn: 0.2335526\ttotal: 18.4s\tremaining: 7.13s\n",
      "2000:\tlearn: 0.2335526\ttotal: 20.4s\tremaining: 5.09s\n",
      "2200:\tlearn: 0.2335526\ttotal: 22.4s\tremaining: 3.04s\n",
      "2400:\tlearn: 0.2335526\ttotal: 24.4s\tremaining: 1s\n",
      "2499:\tlearn: 0.2335526\ttotal: 25.4s\tremaining: 0us\n",
      "              precision    recall  f1-score   support\n",
      "\n",
      "           0    0.91982   0.97797   0.94800      4903\n",
      "           1    0.94852   0.82641   0.88327      2408\n",
      "\n",
      "    accuracy                        0.92805      7311\n",
      "   macro avg    0.93417   0.90219   0.91563      7311\n",
      "weighted avg    0.92927   0.92805   0.92668      7311\n",
      "\n"
     ]
    }
   ],
   "source": [
    "catboost.fit(\n",
    "    S_train, y_train,\n",
    "    verbose=200,\n",
    "    plot=False\n",
    ")\n",
    "\n",
    "# Predict\n",
    "y_pred = catboost.predict(S_test)\n",
    "print(classification_report(y_test, y_pred, digits=5))\n",
    "# Final prediction score\n",
    "# print('Final prediction score: [%.8f]' % accuracy_score(y_test, y_pred))"
   ]
  },
  {
   "cell_type": "code",
   "execution_count": null,
   "metadata": {},
   "outputs": [],
   "source": []
  }
 ],
 "metadata": {
  "kernelspec": {
   "display_name": "twitterbotdetection",
   "language": "python",
   "name": "python3"
  },
  "language_info": {
   "codemirror_mode": {
    "name": "ipython",
    "version": 3
   },
   "file_extension": ".py",
   "mimetype": "text/x-python",
   "name": "python",
   "nbconvert_exporter": "python",
   "pygments_lexer": "ipython3",
   "version": "3.7.6"
  }
 },
 "nbformat": 4,
 "nbformat_minor": 4
}
