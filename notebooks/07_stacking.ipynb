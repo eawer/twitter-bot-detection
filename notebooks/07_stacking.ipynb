{
 "cells": [
  {
   "cell_type": "code",
   "execution_count": null,
   "metadata": {},
   "outputs": [],
   "source": [
    "import joblib\n",
    "import numpy as np\n",
    "from vecstack import stacking\n",
    "from xgboost import XGBClassifier\n",
    "from lightgbm import LGBMClassifier\n",
    "from catboost import CatBoostClassifier\n",
    "from sklearn.linear_model import LogisticRegression\n",
    "from sklearn.ensemble import ExtraTreesClassifier, RandomForestClassifier\n",
    "from sklearn.metrics import accuracy_score, classification_report, f1_score"
   ]
  },
  {
   "cell_type": "code",
   "execution_count": 22,
   "metadata": {},
   "outputs": [],
   "source": [
    "X_train = pd.read_pickle(\"data/05_model_input/X_train.pkl\")\n",
    "X_test = pd.read_pickle(\"data/05_model_input/X_test.pkl\")\n",
    "y_train = pd.read_pickle(\"data/05_model_input/y_train.pkl\")\n",
    "y_test = pd.read_pickle(\"data/05_model_input/y_test.pkl\")"
   ]
  },
  {
   "cell_type": "code",
   "execution_count": 53,
   "metadata": {},
   "outputs": [],
   "source": [
    "depth = 10\n",
    "estimators = 100"
   ]
  },
  {
   "cell_type": "code",
   "execution_count": 54,
   "metadata": {},
   "outputs": [],
   "source": [
    "params = {\n",
    "    \"iterations\": 2500,\n",
    "    \"learning_rate\": 0.02,\n",
    "    \"loss_function\": 'Logloss',\n",
    "    \"random_seed\": 1,\n",
    "    \"od_wait\": 30,\n",
    "    \"od_type\": \"Iter\",\n",
    "    \"thread_count\": 8,\n",
    "    \"verbose\": False,\n",
    "    \"depth\": depth,\n",
    "    \"random_seed\": 1,\n",
    "}\n",
    "catboost = CatBoostClassifier(**params)"
   ]
  },
  {
   "cell_type": "code",
   "execution_count": 55,
   "metadata": {},
   "outputs": [],
   "source": [
    "xgboost = XGBClassifier(random_state=0, n_jobs=-1, learning_rate=0.1, n_estimators=estimators, max_depth=depth)\n",
    "lightgbm = LGBMClassifier(random_state=0, n_jobs=-1, learning_rate=0.1, n_estimators=estimators, max_depth=depth)\n",
    "extra_trees = ExtraTreesClassifier(random_state=0, n_jobs=-1,  n_estimators=estimators, max_depth=depth)\n",
    "random_forest = RandomForestClassifier(random_state=0, n_jobs=-1, n_estimators=estimators, max_depth=depth)"
   ]
  },
  {
   "cell_type": "code",
   "execution_count": 56,
   "metadata": {},
   "outputs": [
    {
     "name": "stdout",
     "output_type": "stream",
     "text": [
      "task:         [classification]\n",
      "n_classes:    [2]\n",
      "metric:       [f1_score]\n",
      "mode:         [oof_pred_bag]\n",
      "n_models:     [5]\n",
      "\n",
      "model  0:     [CatBoostClassifier]\n",
      "    fold  0:  [0.88991430]\n",
      "    fold  1:  [0.88704754]\n",
      "    fold  2:  [0.87772926]\n",
      "    fold  3:  [0.88830255]\n",
      "    ----\n",
      "    MEAN:     [0.88574841] + [0.00474006]\n",
      "    FULL:     [0.88573775]\n",
      "\n",
      "model  1:     [LGBMClassifier]\n",
      "    fold  0:  [0.88645331]\n",
      "    fold  1:  [0.88412389]\n",
      "    fold  2:  [0.87500000]\n",
      "    fold  3:  [0.88093146]\n",
      "    ----\n",
      "    MEAN:     [0.88162716] + [0.00429909]\n",
      "    FULL:     [0.88161841]\n",
      "\n",
      "model  2:     [XGBClassifier]\n",
      "    fold  0:  [0.89035088]\n",
      "    fold  1:  [0.88128948]\n",
      "    fold  2:  [0.88208469]\n",
      "    fold  3:  [0.88699080]\n",
      "    ----\n",
      "    MEAN:     [0.88517896] + [0.00369912]\n",
      "    FULL:     [0.88516537]\n",
      "\n",
      "model  3:     [RandomForestClassifier]\n",
      "    fold  0:  [0.87390029]\n",
      "    fold  1:  [0.86985840]\n",
      "    fold  2:  [0.86477987]\n",
      "    fold  3:  [0.86459515]\n",
      "    ----\n",
      "    MEAN:     [0.86828343] + [0.00387001]\n",
      "    FULL:     [0.86828608]\n",
      "\n",
      "model  4:     [ExtraTreesClassifier]\n",
      "    fold  0:  [0.83612494]\n",
      "    fold  1:  [0.83065792]\n",
      "    fold  2:  [0.83306836]\n",
      "    fold  3:  [0.83001601]\n",
      "    ----\n",
      "    MEAN:     [0.83246681] + [0.00239908]\n",
      "    FULL:     [0.83247232]\n",
      "\n"
     ]
    }
   ],
   "source": [
    "S_train, S_test = stacking([catboost, lightgbm, xgboost, random_forest, extra_trees],\n",
    "                           X_train, y_train, X_test,   # data\n",
    "                           regression=False,           # classification task (if you need regression - set to True)\n",
    "                           mode='oof_pred_bag',        # mode: oof for train set, predict test set in each fold and vote\n",
    "                           needs_proba=False,          # predict class labels (if you need probabilities - set to True) \n",
    "                           save_dir=None,              # do not save result and log (to save in current dir - set to '.')\n",
    "                           metric=f1_score,            # metric: callable\n",
    "                           n_folds=4,                  # number of folds\n",
    "                           stratified=True,            # stratified split for folds\n",
    "                           shuffle=True,               # shuffle the data\n",
    "                           random_state=0,             # ensure reproduci\n",
    "                           verbose=2)                  # print all info"
   ]
  },
  {
   "cell_type": "code",
   "execution_count": 57,
   "metadata": {},
   "outputs": [
    {
     "name": "stdout",
     "output_type": "stream",
     "text": [
      "              precision    recall  f1-score   support\n",
      "\n",
      "           0    0.91966   0.98062   0.94917      4903\n",
      "           1    0.95439   0.82558   0.88533      2408\n",
      "\n",
      "    accuracy                        0.92956      7311\n",
      "   macro avg    0.93703   0.90310   0.91725      7311\n",
      "weighted avg    0.93110   0.92956   0.92814      7311\n",
      "\n"
     ]
    }
   ],
   "source": [
    "logreg = LogisticRegression(random_state=0).fit(S_train, y_train,)\n",
    "y_pred = logreg.predict(S_test)\n",
    "\n",
    "print(classification_report(y_test, y_pred, digits=5))"
   ]
  },
  {
   "cell_type": "code",
   "execution_count": null,
   "metadata": {},
   "outputs": [],
   "source": []
  }
 ],
 "metadata": {
  "kernelspec": {
   "display_name": "twitterbotdetection",
   "language": "python",
   "name": "python3"
  },
  "language_info": {
   "codemirror_mode": {
    "name": "ipython",
    "version": 3
   },
   "file_extension": ".py",
   "mimetype": "text/x-python",
   "name": "python",
   "nbconvert_exporter": "python",
   "pygments_lexer": "ipython3",
   "version": "3.7.6"
  }
 },
 "nbformat": 4,
 "nbformat_minor": 4
}
