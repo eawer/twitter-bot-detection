{
 "cells": [
  {
   "cell_type": "code",
   "execution_count": 2,
   "metadata": {},
   "outputs": [],
   "source": [
    "import pandas as pd"
   ]
  },
  {
   "cell_type": "code",
   "execution_count": 5,
   "metadata": {},
   "outputs": [],
   "source": [
    "users = pd.read_json('data/01_raw/users.jsonl', lines=True, dtype={\n",
    "    \"id_str\": str,\n",
    "})\n",
    "users.set_index('id_str', inplace=True)\n",
    "\n",
    "labels = pd.read_csv('data/01_raw/labels.csv', names=['id', 'label'], dtype={\"id\": str, \"label\": str}, index_col=0)\n",
    "labels = labels.loc[~labels.index.duplicated(keep='first')]\n",
    "labels.index = labels.index.astype(str)"
   ]
  },
  {
   "cell_type": "code",
   "execution_count": 6,
   "metadata": {},
   "outputs": [],
   "source": [
    "df = pd.concat([users, labels], axis=1, join='inner')\n",
    "df.index.name = 'id_str'\n",
    "df.to_pickle('data/02_intermediate/users.pkl')"
   ]
  }
 ],
 "metadata": {
  "kernelspec": {
   "display_name": "Python 3",
   "language": "python",
   "name": "python3"
  },
  "language_info": {
   "codemirror_mode": {
    "name": "ipython",
    "version": 3
   },
   "file_extension": ".py",
   "mimetype": "text/x-python",
   "name": "python",
   "nbconvert_exporter": "python",
   "pygments_lexer": "ipython3",
   "version": "3.7.6"
  }
 },
 "nbformat": 4,
 "nbformat_minor": 4
}
