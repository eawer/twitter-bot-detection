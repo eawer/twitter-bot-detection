{
 "cells": [
  {
   "cell_type": "code",
   "execution_count": 1,
   "metadata": {},
   "outputs": [],
   "source": [
    "import h2o\n",
    "import pandas as pd\n",
    "from h2o.automl import H2OAutoML\n",
    "from sklearn.model_selection import train_test_split\n",
    "from sklearn.metrics import accuracy_score, classification_report, f1_score"
   ]
  },
  {
   "cell_type": "code",
   "execution_count": 2,
   "metadata": {},
   "outputs": [
    {
     "name": "stdout",
     "output_type": "stream",
     "text": [
      "Checking whether there is an H2O instance running at http://localhost:54321 ..... not found.\n",
      "Attempting to start a local H2O server...\n",
      "  Java Version: openjdk version \"11.0.6\" 2020-01-14; OpenJDK Runtime Environment (build 11.0.6+10-post-Ubuntu-1ubuntu119.10.1); OpenJDK 64-Bit Server VM (build 11.0.6+10-post-Ubuntu-1ubuntu119.10.1, mixed mode, sharing)\n",
      "  Starting server from /home/eugene/anaconda3/envs/twitter-bot-detection/lib/python3.7/site-packages/h2o/backend/bin/h2o.jar\n",
      "  Ice root: /tmp/tmplnc95t35\n",
      "  JVM stdout: /tmp/tmplnc95t35/h2o_eugene_started_from_python.out\n",
      "  JVM stderr: /tmp/tmplnc95t35/h2o_eugene_started_from_python.err\n",
      "  Server is running at http://127.0.0.1:54321\n",
      "Connecting to H2O server at http://127.0.0.1:54321 ... successful.\n"
     ]
    },
    {
     "data": {
      "text/html": [
       "<div style=\"overflow:auto\"><table style=\"width:50%\"><tr><td>H2O cluster uptime:</td>\n",
       "<td>01 secs</td></tr>\n",
       "<tr><td>H2O cluster timezone:</td>\n",
       "<td>Europe/Kiev</td></tr>\n",
       "<tr><td>H2O data parsing timezone:</td>\n",
       "<td>UTC</td></tr>\n",
       "<tr><td>H2O cluster version:</td>\n",
       "<td>3.28.0.3</td></tr>\n",
       "<tr><td>H2O cluster version age:</td>\n",
       "<td>1 month and 7 days </td></tr>\n",
       "<tr><td>H2O cluster name:</td>\n",
       "<td>H2O_from_python_eugene_sp7jii</td></tr>\n",
       "<tr><td>H2O cluster total nodes:</td>\n",
       "<td>1</td></tr>\n",
       "<tr><td>H2O cluster free memory:</td>\n",
       "<td>3.893 Gb</td></tr>\n",
       "<tr><td>H2O cluster total cores:</td>\n",
       "<td>8</td></tr>\n",
       "<tr><td>H2O cluster allowed cores:</td>\n",
       "<td>8</td></tr>\n",
       "<tr><td>H2O cluster status:</td>\n",
       "<td>accepting new members, healthy</td></tr>\n",
       "<tr><td>H2O connection url:</td>\n",
       "<td>http://127.0.0.1:54321</td></tr>\n",
       "<tr><td>H2O connection proxy:</td>\n",
       "<td>{'http': None, 'https': None}</td></tr>\n",
       "<tr><td>H2O internal security:</td>\n",
       "<td>False</td></tr>\n",
       "<tr><td>H2O API Extensions:</td>\n",
       "<td>Amazon S3, XGBoost, Algos, AutoML, Core V3, TargetEncoder, Core V4</td></tr>\n",
       "<tr><td>Python version:</td>\n",
       "<td>3.7.6 final</td></tr></table></div>"
      ],
      "text/plain": [
       "--------------------------  ------------------------------------------------------------------\n",
       "H2O cluster uptime:         01 secs\n",
       "H2O cluster timezone:       Europe/Kiev\n",
       "H2O data parsing timezone:  UTC\n",
       "H2O cluster version:        3.28.0.3\n",
       "H2O cluster version age:    1 month and 7 days\n",
       "H2O cluster name:           H2O_from_python_eugene_sp7jii\n",
       "H2O cluster total nodes:    1\n",
       "H2O cluster free memory:    3.893 Gb\n",
       "H2O cluster total cores:    8\n",
       "H2O cluster allowed cores:  8\n",
       "H2O cluster status:         accepting new members, healthy\n",
       "H2O connection url:         http://127.0.0.1:54321\n",
       "H2O connection proxy:       {'http': None, 'https': None}\n",
       "H2O internal security:      False\n",
       "H2O API Extensions:         Amazon S3, XGBoost, Algos, AutoML, Core V3, TargetEncoder, Core V4\n",
       "Python version:             3.7.6 final\n",
       "--------------------------  ------------------------------------------------------------------"
      ]
     },
     "metadata": {},
     "output_type": "display_data"
    }
   ],
   "source": [
    "h2o.init()"
   ]
  },
  {
   "cell_type": "code",
   "execution_count": 3,
   "metadata": {},
   "outputs": [],
   "source": [
    "user_features = pd.read_pickle(\"data/04_features/user_features.pkl\")\n",
    "tweets_features = pd.read_pickle(\"data/04_features/tweets_features.pkl\")\n",
    "\n",
    "df = pd.concat([user_features, tweets_features], axis=1, join='inner')\n",
    "df.fillna(0, inplace=True)\n",
    "train, test = train_test_split(df, test_size=0.2, random_state=1, stratify=df['label'])"
   ]
  },
  {
   "cell_type": "code",
   "execution_count": 4,
   "metadata": {},
   "outputs": [
    {
     "name": "stdout",
     "output_type": "stream",
     "text": [
      "Parse progress: |█████████████████████████████████████████████████████████| 100%\n"
     ]
    }
   ],
   "source": [
    "hf = h2o.H2OFrame(train)\n",
    "hf[\"label\"] = hf[\"label\"].asfactor()"
   ]
  },
  {
   "cell_type": "code",
   "execution_count": 5,
   "metadata": {},
   "outputs": [],
   "source": [
    "y = 'label'\n",
    "x = hf.columns"
   ]
  },
  {
   "cell_type": "code",
   "execution_count": 23,
   "metadata": {},
   "outputs": [
    {
     "name": "stdout",
     "output_type": "stream",
     "text": [
      "AutoML progress: |████████████████████████████████████████████████████████| 100%\n"
     ]
    }
   ],
   "source": [
    "aml = H2OAutoML(seed = 1)\n",
    "aml.train(x = x, y = y, training_frame = hf)"
   ]
  },
  {
   "cell_type": "code",
   "execution_count": 24,
   "metadata": {},
   "outputs": [
    {
     "data": {
      "text/html": [
       "<table>\n",
       "<thead>\n",
       "<tr><th>model_id                                        </th><th style=\"text-align: right;\">     auc</th><th style=\"text-align: right;\">  logloss</th><th style=\"text-align: right;\">   aucpr</th><th style=\"text-align: right;\">  mean_per_class_error</th><th style=\"text-align: right;\">    rmse</th><th style=\"text-align: right;\">      mse</th></tr>\n",
       "</thead>\n",
       "<tbody>\n",
       "<tr><td>XGBoost_grid__1_AutoML_20200313_132941_model_9  </td><td style=\"text-align: right;\">0.972842</td><td style=\"text-align: right;\"> 0.180771</td><td style=\"text-align: right;\">0.881794</td><td style=\"text-align: right;\">             0.0854645</td><td style=\"text-align: right;\">0.229552</td><td style=\"text-align: right;\">0.0526942</td></tr>\n",
       "<tr><td>XGBoost_grid__1_AutoML_20200313_132941_model_8  </td><td style=\"text-align: right;\">0.972505</td><td style=\"text-align: right;\"> 0.181242</td><td style=\"text-align: right;\">0.902011</td><td style=\"text-align: right;\">             0.085519 </td><td style=\"text-align: right;\">0.229822</td><td style=\"text-align: right;\">0.0528181</td></tr>\n",
       "<tr><td>XGBoost_2_AutoML_20200313_132941                </td><td style=\"text-align: right;\">0.972094</td><td style=\"text-align: right;\"> 0.182855</td><td style=\"text-align: right;\">0.894582</td><td style=\"text-align: right;\">             0.089526 </td><td style=\"text-align: right;\">0.23107 </td><td style=\"text-align: right;\">0.0533932</td></tr>\n",
       "<tr><td>XGBoost_1_AutoML_20200313_132941                </td><td style=\"text-align: right;\">0.972028</td><td style=\"text-align: right;\"> 0.182225</td><td style=\"text-align: right;\">0.897274</td><td style=\"text-align: right;\">             0.0868696</td><td style=\"text-align: right;\">0.230488</td><td style=\"text-align: right;\">0.0531245</td></tr>\n",
       "<tr><td>XGBoost_grid__1_AutoML_20200313_132941_model_3  </td><td style=\"text-align: right;\">0.972018</td><td style=\"text-align: right;\"> 0.183118</td><td style=\"text-align: right;\">0.904511</td><td style=\"text-align: right;\">             0.0875735</td><td style=\"text-align: right;\">0.231341</td><td style=\"text-align: right;\">0.0535185</td></tr>\n",
       "<tr><td>StackedEnsemble_AllModels_AutoML_20200313_132941</td><td style=\"text-align: right;\">0.971971</td><td style=\"text-align: right;\"> 0.193765</td><td style=\"text-align: right;\">0.898482</td><td style=\"text-align: right;\">             0.0887338</td><td style=\"text-align: right;\">0.233401</td><td style=\"text-align: right;\">0.0544759</td></tr>\n",
       "<tr><td>XGBoost_grid__1_AutoML_20200313_132941_model_4  </td><td style=\"text-align: right;\">0.971368</td><td style=\"text-align: right;\"> 0.184117</td><td style=\"text-align: right;\">0.880023</td><td style=\"text-align: right;\">             0.0867986</td><td style=\"text-align: right;\">0.231023</td><td style=\"text-align: right;\">0.0533717</td></tr>\n",
       "<tr><td>XGBoost_3_AutoML_20200313_132941                </td><td style=\"text-align: right;\">0.97118 </td><td style=\"text-align: right;\"> 0.185653</td><td style=\"text-align: right;\">0.88278 </td><td style=\"text-align: right;\">             0.0879385</td><td style=\"text-align: right;\">0.232842</td><td style=\"text-align: right;\">0.0542156</td></tr>\n",
       "<tr><td>XGBoost_grid__1_AutoML_20200313_132941_model_1  </td><td style=\"text-align: right;\">0.970938</td><td style=\"text-align: right;\"> 0.186173</td><td style=\"text-align: right;\">0.926074</td><td style=\"text-align: right;\">             0.0886588</td><td style=\"text-align: right;\">0.233194</td><td style=\"text-align: right;\">0.0543794</td></tr>\n",
       "<tr><td>XGBoost_grid__1_AutoML_20200313_132941_model_7  </td><td style=\"text-align: right;\">0.970857</td><td style=\"text-align: right;\"> 0.18573 </td><td style=\"text-align: right;\">0.886882</td><td style=\"text-align: right;\">             0.0911532</td><td style=\"text-align: right;\">0.232562</td><td style=\"text-align: right;\">0.0540849</td></tr>\n",
       "</tbody>\n",
       "</table>"
      ]
     },
     "metadata": {},
     "output_type": "display_data"
    },
    {
     "data": {
      "text/plain": []
     },
     "execution_count": 24,
     "metadata": {},
     "output_type": "execute_result"
    }
   ],
   "source": [
    "lb = aml.leaderboard\n",
    "lb.head()"
   ]
  },
  {
   "cell_type": "code",
   "execution_count": null,
   "metadata": {},
   "outputs": [],
   "source": [
    "h2o.save_model(aml.leader, 'data/06_models/')"
   ]
  },
  {
   "cell_type": "code",
   "execution_count": 25,
   "metadata": {},
   "outputs": [
    {
     "name": "stdout",
     "output_type": "stream",
     "text": [
      "Parse progress: |█████████████████████████████████████████████████████████| 100%\n",
      "xgboost prediction progress: |████████████████████████████████████████████| 100%\n"
     ]
    }
   ],
   "source": [
    "pred = aml.leader.predict(h2o.H2OFrame(test.drop(columns=[\"label\"])))"
   ]
  },
  {
   "cell_type": "code",
   "execution_count": 26,
   "metadata": {},
   "outputs": [
    {
     "name": "stdout",
     "output_type": "stream",
     "text": [
      "              precision    recall  f1-score   support\n",
      "\n",
      "           0    0.94222   0.95778   0.94993      4903\n",
      "           1    0.91104   0.88040   0.89546      2408\n",
      "\n",
      "    accuracy                        0.93229      7311\n",
      "   macro avg    0.92663   0.91909   0.92270      7311\n",
      "weighted avg    0.93195   0.93229   0.93199      7311\n",
      "\n"
     ]
    }
   ],
   "source": [
    "print(classification_report(test[\"label\"], pred[\"predict\"].as_data_frame().values, digits=5))"
   ]
  }
 ],
 "metadata": {
  "kernelspec": {
   "display_name": "twitterbotdetection",
   "language": "python",
   "name": "python3"
  },
  "language_info": {
   "codemirror_mode": {
    "name": "ipython",
    "version": 3
   },
   "file_extension": ".py",
   "mimetype": "text/x-python",
   "name": "python",
   "nbconvert_exporter": "python",
   "pygments_lexer": "ipython3",
   "version": "3.7.6"
  }
 },
 "nbformat": 4,
 "nbformat_minor": 4
}
