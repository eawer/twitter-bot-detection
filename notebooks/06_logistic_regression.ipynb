{
 "cells": [
  {
   "cell_type": "code",
   "execution_count": 113,
   "metadata": {},
   "outputs": [],
   "source": [
    "import joblib\n",
    "import mlflow\n",
    "import numpy as np\n",
    "import pandas as pd\n",
    "from pickle import dump\n",
    "from kedro.io import PickleLocalDataSet\n",
    "from sklearn.preprocessing import StandardScaler\n",
    "from sklearn.linear_model import LogisticRegression\n",
    "\n",
    "from sklearn.metrics import accuracy_score, classification_report, f1_score"
   ]
  },
  {
   "cell_type": "code",
   "execution_count": 121,
   "metadata": {},
   "outputs": [],
   "source": [
    "X_train = pd.read_pickle(\"data/05_model_input/X_train.pkl\")\n",
    "X_test = pd.read_pickle(\"data/05_model_input/X_test.pkl\")\n",
    "y_train = pd.read_pickle(\"data/05_model_input/y_train.pkl\")\n",
    "y_test = pd.read_pickle(\"data/05_model_input/y_test.pkl\")"
   ]
  },
  {
   "cell_type": "code",
   "execution_count": 115,
   "metadata": {},
   "outputs": [],
   "source": [
    "def run_logreg(X_train: PickleLocalDataSet, X_test: PickleLocalDataSet, y_train: PickleLocalDataSet, y_test: PickleLocalDataSet, log=False) -> PickleLocalDataSet:\n",
    "    model = LogisticRegression(random_state=0).fit(StandardScaler().fit_transform(X_train), y_train)\n",
    "    y_pred = model.predict(StandardScaler().fit_transform(X_test))\n",
    "    params = {\n",
    "    }\n",
    "\n",
    "    f1 = f1_score(y_test, y_pred, average=\"weighted\")\n",
    "\n",
    "    joblib.dump(model, 'data/06_models/logreg.pkl')\n",
    "    \n",
    "    \n",
    "    print(classification_report(y_test, y_pred, digits=5))\n",
    "    \n",
    "    if log:\n",
    "        mlflow.set_tracking_uri(\"databricks\")\n",
    "        mlflow.set_experiment(\"/Users/firefly.eugene@gmail.com/twitter-bot-detection\")\n",
    "\n",
    "        run_id = mlflow.search_runs(experiment_ids=\"3889491181315524\", filter_string=\"tags.`mlflow.runName`='logreg'\", run_view_type=1)[\"run_id\"][0]    \n",
    "        mlflow.start_run(run_id=run_id, nested=False)\n",
    "\n",
    "        with mlflow.start_run(nested=True):\n",
    "            mlflow.set_tags({\n",
    "                \"lib\": \"sklearn\",\n",
    "                \"features\": X_train.columns.values,\n",
    "                \"description\": \"Standard scaler added\"\n",
    "            })\n",
    "\n",
    "            mlflow.log_params(params)\n",
    "            mlflow.log_metric(\"f1\", f1, 1)\n",
    "            mlflow.log_artifact('data/05_model_input/X_test.pkl')\n",
    "        mlflow.end_run()\n",
    "    return model"
   ]
  },
  {
   "cell_type": "code",
   "execution_count": 116,
   "metadata": {},
   "outputs": [
    {
     "name": "stdout",
     "output_type": "stream",
     "text": [
      "              precision    recall  f1-score   support\n",
      "\n",
      "           0    0.89904   0.89721   0.89812      4903\n",
      "           1    0.79156   0.79485   0.79320      2408\n",
      "\n",
      "    accuracy                        0.86349      7311\n",
      "   macro avg    0.84530   0.84603   0.84566      7311\n",
      "weighted avg    0.86364   0.86349   0.86357      7311\n",
      "\n",
      "CPU times: user 2.08 s, sys: 1.69 s, total: 3.77 s\n",
      "Wall time: 14.8 s\n"
     ]
    }
   ],
   "source": [
    "%%time\n",
    "m = run_logreg(X_train, X_test, y_train, y_test, log=True);"
   ]
  },
  {
   "cell_type": "code",
   "execution_count": 128,
   "metadata": {},
   "outputs": [
    {
     "name": "stdout",
     "output_type": "stream",
     "text": [
      "              precision    recall  f1-score   support\n",
      "\n",
      "           0    0.89145   0.88436   0.88789      4903\n",
      "           1    0.76829   0.78073   0.77446      2408\n",
      "\n",
      "    accuracy                        0.85023      7311\n",
      "   macro avg    0.82987   0.83254   0.83117      7311\n",
      "weighted avg    0.85088   0.85023   0.85053      7311\n",
      "\n"
     ]
    }
   ],
   "source": [
    "from sklearn.linear_model import RidgeClassifierCV\n",
    "clf = RidgeClassifierCV().fit(StandardScaler().fit_transform(X_train), y_train)\n",
    "pred = clf.predict(StandardScaler().fit_transform(X_test))\n",
    "print(classification_report(y_test, pred, digits=5))"
   ]
  },
  {
   "cell_type": "code",
   "execution_count": null,
   "metadata": {},
   "outputs": [],
   "source": []
  },
  {
   "cell_type": "code",
   "execution_count": null,
   "metadata": {},
   "outputs": [],
   "source": []
  }
 ],
 "metadata": {
  "kernelspec": {
   "display_name": "twitterbotdetection",
   "language": "python",
   "name": "python3"
  },
  "language_info": {
   "codemirror_mode": {
    "name": "ipython",
    "version": 3
   },
   "file_extension": ".py",
   "mimetype": "text/x-python",
   "name": "python",
   "nbconvert_exporter": "python",
   "pygments_lexer": "ipython3",
   "version": "3.7.6"
  }
 },
 "nbformat": 4,
 "nbformat_minor": 4
}
