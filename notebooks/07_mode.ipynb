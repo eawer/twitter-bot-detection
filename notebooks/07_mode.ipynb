{
 "cells": [
  {
   "cell_type": "code",
   "execution_count": 124,
   "metadata": {},
   "outputs": [],
   "source": [
    "import joblib\n",
    "import numpy as np\n",
    "import pandas as pd\n",
    "import xgboost as xgb\n",
    "from pickle import load\n",
    "from sklearn.linear_model import RidgeClassifierCV\n",
    "from sklearn.linear_model import LogisticRegression\n",
    "from sklearn.preprocessing import StandardScaler\n",
    "from sklearn.model_selection import train_test_split\n",
    "from sklearn.metrics import accuracy_score, classification_report, f1_score"
   ]
  },
  {
   "cell_type": "code",
   "execution_count": 147,
   "metadata": {},
   "outputs": [],
   "source": [
    "X = pd.read_pickle(\"data/05_model_input/X_test.pkl\")\n",
    "y = pd.read_pickle(\"data/05_model_input/y_test.pkl\")"
   ]
  },
  {
   "cell_type": "code",
   "execution_count": 148,
   "metadata": {},
   "outputs": [],
   "source": [
    "lightgbm = joblib.load('data/06_models/lightgbm.pkl')\n",
    "logreg = joblib.load('data/06_models/logreg.pkl')\n",
    "extra_trees = joblib.load('data/06_models/extra_trees.pkl')\n",
    "catboost = joblib.load('data/06_models/catboost.pkl')\n",
    "xgboost = joblib.load('data/06_models/xgboost.pkl')\n",
    "random_forest = joblib.load('data/06_models/random_forest.pkl')"
   ]
  },
  {
   "cell_type": "code",
   "execution_count": 149,
   "metadata": {},
   "outputs": [],
   "source": [
    "results = pd.DataFrame()\n",
    "results[\"lightgbm\"] = np.round(lightgbm.predict(X))\n",
    "results[\"logreg\"] = logreg.predict(X)\n",
    "results[\"extra_trees\"] = extra_trees.predict(X)\n",
    "results[\"catboost\"] = catboost.predict(X)\n",
    "results[\"xgboost\"] = np.round(xgboost.predict(xgb.DMatrix(X, label=y)))\n",
    "results[\"random_forest\"] = random_forest.predict(X)"
   ]
  },
  {
   "cell_type": "code",
   "execution_count": 150,
   "metadata": {},
   "outputs": [
    {
     "data": {
      "text/html": [
       "<div>\n",
       "<style scoped>\n",
       "    .dataframe tbody tr th:only-of-type {\n",
       "        vertical-align: middle;\n",
       "    }\n",
       "\n",
       "    .dataframe tbody tr th {\n",
       "        vertical-align: top;\n",
       "    }\n",
       "\n",
       "    .dataframe thead th {\n",
       "        text-align: right;\n",
       "    }\n",
       "</style>\n",
       "<table border=\"1\" class=\"dataframe\">\n",
       "  <thead>\n",
       "    <tr style=\"text-align: right;\">\n",
       "      <th></th>\n",
       "      <th>lightgbm</th>\n",
       "      <th>logreg</th>\n",
       "      <th>extra_trees</th>\n",
       "      <th>catboost</th>\n",
       "      <th>xgboost</th>\n",
       "      <th>random_forest</th>\n",
       "    </tr>\n",
       "  </thead>\n",
       "  <tbody>\n",
       "    <tr>\n",
       "      <th>lightgbm</th>\n",
       "      <td>1.000000</td>\n",
       "      <td>0.118270</td>\n",
       "      <td>0.904498</td>\n",
       "      <td>0.956864</td>\n",
       "      <td>0.889405</td>\n",
       "      <td>0.936633</td>\n",
       "    </tr>\n",
       "    <tr>\n",
       "      <th>logreg</th>\n",
       "      <td>0.118270</td>\n",
       "      <td>1.000000</td>\n",
       "      <td>0.119280</td>\n",
       "      <td>0.118120</td>\n",
       "      <td>0.108150</td>\n",
       "      <td>0.111848</td>\n",
       "    </tr>\n",
       "    <tr>\n",
       "      <th>extra_trees</th>\n",
       "      <td>0.904498</td>\n",
       "      <td>0.119280</td>\n",
       "      <td>1.000000</td>\n",
       "      <td>0.914321</td>\n",
       "      <td>0.900978</td>\n",
       "      <td>0.931919</td>\n",
       "    </tr>\n",
       "    <tr>\n",
       "      <th>catboost</th>\n",
       "      <td>0.956864</td>\n",
       "      <td>0.118120</td>\n",
       "      <td>0.914321</td>\n",
       "      <td>1.000000</td>\n",
       "      <td>0.886478</td>\n",
       "      <td>0.950408</td>\n",
       "    </tr>\n",
       "    <tr>\n",
       "      <th>xgboost</th>\n",
       "      <td>0.889405</td>\n",
       "      <td>0.108150</td>\n",
       "      <td>0.900978</td>\n",
       "      <td>0.886478</td>\n",
       "      <td>1.000000</td>\n",
       "      <td>0.909454</td>\n",
       "    </tr>\n",
       "    <tr>\n",
       "      <th>random_forest</th>\n",
       "      <td>0.936633</td>\n",
       "      <td>0.111848</td>\n",
       "      <td>0.931919</td>\n",
       "      <td>0.950408</td>\n",
       "      <td>0.909454</td>\n",
       "      <td>1.000000</td>\n",
       "    </tr>\n",
       "  </tbody>\n",
       "</table>\n",
       "</div>"
      ],
      "text/plain": [
       "               lightgbm    logreg  extra_trees  catboost   xgboost  \\\n",
       "lightgbm       1.000000  0.118270     0.904498  0.956864  0.889405   \n",
       "logreg         0.118270  1.000000     0.119280  0.118120  0.108150   \n",
       "extra_trees    0.904498  0.119280     1.000000  0.914321  0.900978   \n",
       "catboost       0.956864  0.118120     0.914321  1.000000  0.886478   \n",
       "xgboost        0.889405  0.108150     0.900978  0.886478  1.000000   \n",
       "random_forest  0.936633  0.111848     0.931919  0.950408  0.909454   \n",
       "\n",
       "               random_forest  \n",
       "lightgbm            0.936633  \n",
       "logreg              0.111848  \n",
       "extra_trees         0.931919  \n",
       "catboost            0.950408  \n",
       "xgboost             0.909454  \n",
       "random_forest       1.000000  "
      ]
     },
     "execution_count": 150,
     "metadata": {},
     "output_type": "execute_result"
    }
   ],
   "source": [
    "results.corr()"
   ]
  },
  {
   "cell_type": "code",
   "execution_count": 151,
   "metadata": {},
   "outputs": [
    {
     "name": "stdout",
     "output_type": "stream",
     "text": [
      "              precision    recall  f1-score   support\n",
      "\n",
      "           0    0.91753   0.97797   0.94679      4903\n",
      "           1    0.94820   0.82101   0.88004      2408\n",
      "\n",
      "    accuracy                        0.92628      7311\n",
      "   macro avg    0.93286   0.89949   0.91341      7311\n",
      "weighted avg    0.92763   0.92628   0.92480      7311\n",
      "\n"
     ]
    }
   ],
   "source": [
    "print(classification_report(y, results.mode(axis=1)[0], digits=5))"
   ]
  },
  {
   "cell_type": "code",
   "execution_count": null,
   "metadata": {},
   "outputs": [],
   "source": []
  }
 ],
 "metadata": {
  "kernelspec": {
   "display_name": "twitterbotdetection",
   "language": "python",
   "name": "python3"
  },
  "language_info": {
   "codemirror_mode": {
    "name": "ipython",
    "version": 3
   },
   "file_extension": ".py",
   "mimetype": "text/x-python",
   "name": "python",
   "nbconvert_exporter": "python",
   "pygments_lexer": "ipython3",
   "version": "3.7.6"
  }
 },
 "nbformat": 4,
 "nbformat_minor": 4
}
