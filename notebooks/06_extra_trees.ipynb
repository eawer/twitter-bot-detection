{
 "cells": [
  {
   "cell_type": "code",
   "execution_count": 18,
   "metadata": {},
   "outputs": [],
   "source": [
    "import joblib\n",
    "import mlflow\n",
    "import pandas as pd\n",
    "import numpy as np\n",
    "from pickle import dump\n",
    "from kedro.io import PickleLocalDataSet\n",
    "from sklearn.preprocessing import StandardScaler\n",
    "from sklearn.ensemble import ExtraTreesClassifier\n",
    "\n",
    "from sklearn.metrics import accuracy_score, classification_report, f1_score"
   ]
  },
  {
   "cell_type": "code",
   "execution_count": 19,
   "metadata": {},
   "outputs": [],
   "source": [
    "X_train = pd.read_pickle(\"data/05_model_input/X_train.pkl\")\n",
    "X_test = pd.read_pickle(\"data/05_model_input/X_test.pkl\")\n",
    "y_train = pd.read_pickle(\"data/05_model_input/y_train.pkl\")\n",
    "y_test = pd.read_pickle(\"data/05_model_input/y_test.pkl\")"
   ]
  },
  {
   "cell_type": "code",
   "execution_count": 22,
   "metadata": {},
   "outputs": [],
   "source": [
    "def run_extra_trees(X_train: PickleLocalDataSet, X_test: PickleLocalDataSet, y_train: PickleLocalDataSet, y_test: PickleLocalDataSet, log=False) -> PickleLocalDataSet:\n",
    "    model = ExtraTreesClassifier(n_estimators=100, random_state=0, max_depth=20)\n",
    "    model.fit(X_train, y_train)\n",
    "    y_pred = model.predict(X_test)\n",
    "    params = {\n",
    "    }\n",
    "\n",
    "    f1 = f1_score(y_test, y_pred, average=\"weighted\")\n",
    "\n",
    "    joblib.dump(model, 'data/06_models/extra_trees.pkl')\n",
    "    \n",
    "    \n",
    "    print(classification_report(y_test, y_pred, digits=5))\n",
    "    \n",
    "    if log:\n",
    "        mlflow.set_tracking_uri(\"databricks\")\n",
    "        mlflow.set_experiment(context.params.databricks)\n",
    "\n",
    "        run_id = mlflow.search_runs(experiment_ids=\"3889491181315524\", filter_string=\"tags.`mlflow.runName`='extra_trees'\", run_view_type=1)[\"run_id\"][0]    \n",
    "        mlflow.start_run(run_id=run_id, nested=False)\n",
    "#         mlflow.start_run(run_name=\"extra_trees\", nested=False)\n",
    "\n",
    "        with mlflow.start_run(nested=True):\n",
    "            mlflow.set_tags({\n",
    "                \"lib\": \"sklearn\",\n",
    "                \"features\": X_train.columns.values,\n",
    "            })\n",
    "\n",
    "            mlflow.log_params(params)\n",
    "            mlflow.log_metric(\"f1\", f1, 1)\n",
    "            mlflow.log_artifact('data/05_model_input/X_test.pkl')\n",
    "        mlflow.end_run()\n",
    "    return model"
   ]
  },
  {
   "cell_type": "code",
   "execution_count": 23,
   "metadata": {},
   "outputs": [
    {
     "name": "stdout",
     "output_type": "stream",
     "text": [
      "              precision    recall  f1-score   support\n",
      "\n",
      "           0    0.90412   0.97512   0.93828      4903\n",
      "           1    0.93969   0.78945   0.85805      2408\n",
      "\n",
      "    accuracy                        0.91397      7311\n",
      "   macro avg    0.92191   0.88228   0.89816      7311\n",
      "weighted avg    0.91584   0.91397   0.91185      7311\n",
      "\n",
      "CPU times: user 2.64 s, sys: 133 ms, total: 2.78 s\n",
      "Wall time: 16.9 s\n"
     ]
    }
   ],
   "source": [
    "%%time\n",
    "m = run_extra_trees(X_train, X_test, y_train, y_test, log=True);"
   ]
  },
  {
   "cell_type": "code",
   "execution_count": null,
   "metadata": {},
   "outputs": [],
   "source": []
  }
 ],
 "metadata": {
  "kernelspec": {
   "display_name": "twitterbotdetection",
   "language": "python",
   "name": "python3"
  },
  "language_info": {
   "codemirror_mode": {
    "name": "ipython",
    "version": 3
   },
   "file_extension": ".py",
   "mimetype": "text/x-python",
   "name": "python",
   "nbconvert_exporter": "python",
   "pygments_lexer": "ipython3",
   "version": "3.7.6"
  }
 },
 "nbformat": 4,
 "nbformat_minor": 4
}
