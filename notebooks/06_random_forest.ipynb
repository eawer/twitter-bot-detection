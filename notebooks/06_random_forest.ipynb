{
 "cells": [
  {
   "cell_type": "code",
   "execution_count": 33,
   "metadata": {},
   "outputs": [],
   "source": [
    "import joblib\n",
    "import mlflow\n",
    "import pandas as pd\n",
    "import numpy as np\n",
    "from pickle import dump\n",
    "from kedro.io import PickleLocalDataSet\n",
    "from sklearn.ensemble import RandomForestClassifier\n",
    "\n",
    "from sklearn.metrics import accuracy_score, classification_report, f1_score"
   ]
  },
  {
   "cell_type": "code",
   "execution_count": 34,
   "metadata": {},
   "outputs": [],
   "source": [
    "X_train = pd.read_pickle(\"data/05_model_input/X_train.pkl\")\n",
    "X_test = pd.read_pickle(\"data/05_model_input/X_test.pkl\")\n",
    "y_train = pd.read_pickle(\"data/05_model_input/y_train.pkl\")\n",
    "y_test = pd.read_pickle(\"data/05_model_input/y_test.pkl\")"
   ]
  },
  {
   "cell_type": "code",
   "execution_count": 35,
   "metadata": {},
   "outputs": [],
   "source": [
    "def run_random_forest(X_train: PickleLocalDataSet, X_test: PickleLocalDataSet, y_train: PickleLocalDataSet, y_test: PickleLocalDataSet, log=False) -> PickleLocalDataSet:\n",
    "    max_depth = 20\n",
    "    \n",
    "    model = RandomForestClassifier(max_depth=max_depth, random_state=0)\n",
    "\n",
    "    model.fit(X_train, y_train)\n",
    "    y_pred = model.predict(X_test)\n",
    "    params = {\n",
    "    }\n",
    "\n",
    "    f1 = f1_score(y_test, y_pred, average=\"weighted\")\n",
    "\n",
    "    joblib.dump(model, 'data/06_models/random_forest.pkl')\n",
    "    \n",
    "    \n",
    "    print(classification_report(y_test, y_pred, digits=5))\n",
    "    \n",
    "    if log:\n",
    "        mlflow.set_tracking_uri(\"databricks\")\n",
    "        mlflow.set_experiment(\"/Users/firefly.eugene@gmail.com/twitter-bot-detection\")\n",
    "\n",
    "        run_id = mlflow.search_runs(experiment_ids=\"3889491181315524\", filter_string=\"tags.`mlflow.runName`='random_forest'\", run_view_type=1)[\"run_id\"][0]    \n",
    "        mlflow.start_run(run_id=run_id, nested=False)\n",
    "#         mlflow.start_run(run_name=\"random_forest\", nested=False)\n",
    "\n",
    "        with mlflow.start_run(nested=True):\n",
    "            mlflow.set_tags({\n",
    "                \"lib\": \"sklearn\",\n",
    "                \"features\": X_train.columns.values,\n",
    "#                 \"description\": \"Standard scaler added\"\n",
    "            })\n",
    "\n",
    "            mlflow.log_param('max_depth', max_depth)\n",
    "            mlflow.log_params(params)\n",
    "            mlflow.log_metric(\"f1\", f1, 1)\n",
    "            mlflow.log_artifact('data/05_model_input/X_test.pkl')\n",
    "        mlflow.end_run()\n",
    "    return model"
   ]
  },
  {
   "cell_type": "code",
   "execution_count": 36,
   "metadata": {},
   "outputs": [
    {
     "name": "stdout",
     "output_type": "stream",
     "text": [
      "              precision    recall  f1-score   support\n",
      "\n",
      "           0    0.92011   0.97716   0.94777      4903\n",
      "           1    0.94677   0.82724   0.88298      2408\n",
      "\n",
      "    accuracy                        0.92778      7311\n",
      "   macro avg    0.93344   0.90220   0.91538      7311\n",
      "weighted avg    0.92889   0.92778   0.92643      7311\n",
      "\n",
      "CPU times: user 9.68 s, sys: 47.7 ms, total: 9.73 s\n",
      "Wall time: 22.1 s\n"
     ]
    }
   ],
   "source": [
    "%%time\n",
    "m = run_random_forest(X_train, X_test, y_train, y_test, log=True);"
   ]
  },
  {
   "cell_type": "code",
   "execution_count": null,
   "metadata": {},
   "outputs": [],
   "source": []
  }
 ],
 "metadata": {
  "kernelspec": {
   "display_name": "twitterbotdetection",
   "language": "python",
   "name": "python3"
  },
  "language_info": {
   "codemirror_mode": {
    "name": "ipython",
    "version": 3
   },
   "file_extension": ".py",
   "mimetype": "text/x-python",
   "name": "python",
   "nbconvert_exporter": "python",
   "pygments_lexer": "ipython3",
   "version": "3.7.6"
  }
 },
 "nbformat": 4,
 "nbformat_minor": 4
}
