{
 "cells": [
  {
   "cell_type": "code",
   "execution_count": 1,
   "metadata": {},
   "outputs": [],
   "source": [
    "import pandas as pd"
   ]
  },
  {
   "cell_type": "code",
   "execution_count": 143,
   "metadata": {},
   "outputs": [],
   "source": [
    "users = pd.read_pickle('../data/03_primary/users.pkl')"
   ]
  },
  {
   "cell_type": "code",
   "execution_count": 144,
   "metadata": {},
   "outputs": [],
   "source": [
    "features = users[[\n",
    "    \"protected\", \"followers_count\", \"friends_count\",  \"listed_count\", \"favourites_count\", \"statuses_count\",\n",
    "    \"verified\", \"default_profile\", \"default_profile_image\",\n",
    "]].copy()\n",
    "\n",
    "features[\"has_location\"] = users.location.isnull()\n",
    "features[\"has_description\"] = users.description.isnull()\n",
    "features[\"created_at_time\"] = pd.cut(users[\"created_at\"].dt.hour, [-1, 6, 11, 18, 23], labels=[\"night\", \"morning\", \"day\", \"evening\"])\n",
    "features[\"account_active_for_days\"] = (users[\"last_status_date\"] - users[\"created_at\"]).dt.days\n",
    "features[\"has_banner\"] = ~users[\"profile_banner_url\"].isnull()\n",
    "features[\"has_profile_url\"] = ~users[\"profile_url\"].isnull()\n",
    "features[\"description_urls_count\"] = users[\"description_urls\"].str.len()\n",
    "features[\"label\"] = (users[\"label\"] == 'bot').astype(int)"
   ]
  },
  {
   "cell_type": "code",
   "execution_count": 145,
   "metadata": {},
   "outputs": [
    {
     "data": {
      "text/plain": [
       "(-1, 100]        26705\n",
       "(100, 500]        3534\n",
       "(500, 2000]       2999\n",
       "(2000, 5000]      1787\n",
       "(5000, 10000]      889\n",
       "Name: listed_count, dtype: int64"
      ]
     },
     "execution_count": 145,
     "metadata": {},
     "output_type": "execute_result"
    }
   ],
   "source": [
    "features[\"tweets_per_day\"] = users[\"statuses_count\"] / features[\"account_active_for_days\"]\n",
    "features[\"favourites_per_day\"] = users[\"favourites_count\"] / features[\"account_active_for_days\"]\n",
    "features[\"fr_to_flw_ratio\"] = users[\"friends_count\"] / users[\"followers_count\"]\n",
    "# features[\"faw_to_tweets_ratio\"] = users[\"favourites_count\"] / users[\"statuses_count\"]\n",
    "features[\"tweets_to_faw_ratio\"] = users[\"statuses_count\"] / users[\"favourites_count\"]\n",
    "features[\"listed_count_cat\"] = pd.cut(users[\"listed_count\"], [-1, 100, 500, 2000, 5000, 10000]).astype(str)\n",
    "pd.cut(users[\"listed_count\"], [-1, 100, 500, 2000, 5000, 10000]).value_counts()"
   ]
  },
  {
   "cell_type": "code",
   "execution_count": 146,
   "metadata": {},
   "outputs": [],
   "source": [
    "features.to_pickle('../data/04_features/users.pkl')"
   ]
  },
  {
   "cell_type": "code",
   "execution_count": 87,
   "metadata": {},
   "outputs": [
    {
     "data": {
      "text/plain": [
       "night      13239\n",
       "day        10570\n",
       "evening     9755\n",
       "morning     3013\n",
       "Name: created_at, dtype: int64"
      ]
     },
     "execution_count": 87,
     "metadata": {},
     "output_type": "execute_result"
    }
   ],
   "source": [
    "pd.cut(users[\"created_at\"].dt.hour, [-1, 9, 12, 18, 24], labels=[\"night\", \"morning\", \"day\", \"evening\"]).value_counts()"
   ]
  },
  {
   "cell_type": "code",
   "execution_count": 63,
   "metadata": {},
   "outputs": [
    {
     "data": {
      "text/plain": [
       "day        11716\n",
       "night      10534\n",
       "evening     9755\n",
       "morning     4572\n",
       "Name: created_at, dtype: int64"
      ]
     },
     "execution_count": 63,
     "metadata": {},
     "output_type": "execute_result"
    }
   ],
   "source": [
    "pd.cut(users[\"created_at\"].dt.hour, [-1, 6, 11, 18, 23], labels=[\"night\", \"morning\", \"day\", \"evening\"]).value_counts()"
   ]
  },
  {
   "cell_type": "code",
   "execution_count": 55,
   "metadata": {},
   "outputs": [
    {
     "data": {
      "text/plain": [
       "day human        7805\n",
       "night human      7189\n",
       "evening human    6919\n",
       "day bot          3911\n",
       "night bot        3345\n",
       "evening bot      2836\n",
       "morning human    2618\n",
       "morning bot      1954\n",
       "dtype: int64"
      ]
     },
     "execution_count": 55,
     "metadata": {},
     "output_type": "execute_result"
    }
   ],
   "source": [
    "(features[\"created_at_time\"].astype(str) + ' ' + users[\"label\"]).value_counts().tail(50)"
   ]
  },
  {
   "cell_type": "code",
   "execution_count": 107,
   "metadata": {},
   "outputs": [
    {
     "data": {
      "text/plain": [
       "<matplotlib.axes._subplots.AxesSubplot at 0x7f06c83f4b90>"
      ]
     },
     "execution_count": 107,
     "metadata": {},
     "output_type": "execute_result"
    },
    {
     "data": {
      "image/png": "[encoded data removed]",
      "text/plain": [
       "<Figure size 432x288 with 1 Axes>"
      ]
     },
     "metadata": {
      "needs_background": "light"
     },
     "output_type": "display_data"
    }
   ],
   "source": [
    "import numpy as np\n",
    "users[\"listed_count\"].hist(bins=np.linspace(-1, 10000, num=20))"
   ]
  },
  {
   "cell_type": "code",
   "execution_count": 70,
   "metadata": {},
   "outputs": [
    {
     "data": {
      "text/plain": [
       "0        9602\n",
       "1        3669\n",
       "2        2053\n",
       "3        1381\n",
       "4         986\n",
       "         ... \n",
       "2803        1\n",
       "4784        1\n",
       "12948       1\n",
       "2707        1\n",
       "1519        1\n",
       "Name: listed_count, Length: 4515, dtype: int64"
      ]
     },
     "execution_count": 70,
     "metadata": {},
     "output_type": "execute_result"
    }
   ],
   "source": [
    "features[\"listed_count\"].value_counts()"
   ]
  },
  {
   "cell_type": "code",
   "execution_count": 150,
   "metadata": {},
   "outputs": [
    {
     "data": {
      "text/plain": [
       "protected                      bool\n",
       "followers_count               int64\n",
       "friends_count                 int64\n",
       "listed_count                  int64\n",
       "favourites_count              int64\n",
       "statuses_count                int64\n",
       "verified                       bool\n",
       "default_profile                bool\n",
       "default_profile_image          bool\n",
       "has_location                   bool\n",
       "has_description                bool\n",
       "created_at_time            category\n",
       "account_active_for_days       int64\n",
       "has_banner                     bool\n",
       "has_profile_url                bool\n",
       "description_urls_count        int64\n",
       "label                         int64\n",
       "tweets_per_day              float64\n",
       "favourites_per_day          float64\n",
       "fr_to_flw_ratio             float64\n",
       "tweets_to_faw_ratio         float64\n",
       "listed_count_cat             object\n",
       "dtype: object"
      ]
     },
     "execution_count": 150,
     "metadata": {},
     "output_type": "execute_result"
    }
   ],
   "source": [
    "features.dtypes"
   ]
  },
  {
   "cell_type": "code",
   "execution_count": null,
   "metadata": {},
   "outputs": [],
   "source": []
  }
 ],
 "metadata": {
  "kernelspec": {
   "display_name": "twitterbotdetection",
   "language": "python",
   "name": "python3"
  },
  "language_info": {
   "codemirror_mode": {
    "name": "ipython",
    "version": 3
   },
   "file_extension": ".py",
   "mimetype": "text/x-python",
   "name": "python",
   "nbconvert_exporter": "python",
   "pygments_lexer": "ipython3",
   "version": "3.7.6"
  }
 },
 "nbformat": 4,
 "nbformat_minor": 4
}
