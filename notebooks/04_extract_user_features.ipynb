{
 "cells": [
  {
   "cell_type": "code",
   "execution_count": 2,
   "metadata": {},
   "outputs": [],
   "source": [
    "import pandas as pd"
   ]
  },
  {
   "cell_type": "code",
   "execution_count": 3,
   "metadata": {},
   "outputs": [],
   "source": [
    "users = pd.read_pickle('data/03_primary/users.pkl')"
   ]
  },
  {
   "cell_type": "code",
   "execution_count": 91,
   "metadata": {},
   "outputs": [],
   "source": [
    "features = users[[\n",
    "    \"protected\", \"followers_count\", \"friends_count\",  \"listed_count\", \"favourites_count\", \"statuses_count\",\n",
    "    \"verified\", \"default_profile\", \"default_profile_image\",\n",
    "]].copy()\n",
    "\n",
    "features[\"has_location\"] = users.location.isnull()\n",
    "features[\"has_description\"] = users.description.isnull()\n",
    "features[\"created_at_time\"] = pd.cut(users[\"created_at\"].dt.hour, [-1, 6, 11, 18, 23], labels=[\"night\", \"morning\", \"day\", \"evening\"])\n",
    "features[\"account_active_for_days\"] = (users[\"last_status_date\"] - users[\"created_at\"]).dt.days\n",
    "features[\"has_banner\"] = ~users[\"profile_banner_url\"].isnull()\n",
    "features[\"has_profile_url\"] = ~users[\"profile_url\"].isnull()\n",
    "features[\"description_urls_count\"] = users[\"description_urls\"].str.len()\n",
    "features[\"label\"] = (users[\"label\"] == 'bot').astype(int)"
   ]
  },
  {
   "cell_type": "code",
   "execution_count": 97,
   "metadata": {},
   "outputs": [],
   "source": [
    "features[\"tweets_per_day\"] = users[\"statuses_count\"] / features[\"account_active_for_days\"]"
   ]
  },
  {
   "cell_type": "code",
   "execution_count": 98,
   "metadata": {},
   "outputs": [],
   "source": [
    "features.to_pickle('data/04_features/users.pkl')"
   ]
  },
  {
   "cell_type": "code",
   "execution_count": 87,
   "metadata": {},
   "outputs": [
    {
     "data": {
      "text/plain": [
       "night      13239\n",
       "day        10570\n",
       "evening     9755\n",
       "morning     3013\n",
       "Name: created_at, dtype: int64"
      ]
     },
     "execution_count": 87,
     "metadata": {},
     "output_type": "execute_result"
    }
   ],
   "source": [
    "pd.cut(users[\"created_at\"].dt.hour, [-1, 9, 12, 18, 24], labels=[\"night\", \"morning\", \"day\", \"evening\"]).value_counts()"
   ]
  },
  {
   "cell_type": "code",
   "execution_count": 63,
   "metadata": {},
   "outputs": [
    {
     "data": {
      "text/plain": [
       "day        11716\n",
       "night      10534\n",
       "evening     9755\n",
       "morning     4572\n",
       "Name: created_at, dtype: int64"
      ]
     },
     "execution_count": 63,
     "metadata": {},
     "output_type": "execute_result"
    }
   ],
   "source": [
    "pd.cut(users[\"created_at\"].dt.hour, [-1, 6, 11, 18, 23], labels=[\"night\", \"morning\", \"day\", \"evening\"]).value_counts()"
   ]
  },
  {
   "cell_type": "code",
   "execution_count": 49,
   "metadata": {},
   "outputs": [
    {
     "data": {
      "text/plain": [
       "id_str\n",
       "2718436417             2\n",
       "792615528791703553     6\n",
       "3287012484             2\n",
       "93816184               8\n",
       "754884880996020225     3\n",
       "                      ..\n",
       "2734133342            10\n",
       "160302029             20\n",
       "382361714             23\n",
       "3528645202             0\n",
       "1686033637            15\n",
       "Name: created_at, Length: 36577, dtype: int64"
      ]
     },
     "execution_count": 49,
     "metadata": {},
     "output_type": "execute_result"
    }
   ],
   "source": [
    "users[\"created_at\"].dt.hour"
   ]
  },
  {
   "cell_type": "code",
   "execution_count": null,
   "metadata": {},
   "outputs": [],
   "source": []
  }
 ],
 "metadata": {
  "kernelspec": {
   "display_name": "twitterbotdetection",
   "language": "python",
   "name": "python3"
  },
  "language_info": {
   "codemirror_mode": {
    "name": "ipython",
    "version": 3
   },
   "file_extension": ".py",
   "mimetype": "text/x-python",
   "name": "python",
   "nbconvert_exporter": "python",
   "pygments_lexer": "ipython3",
   "version": "3.7.6"
  }
 },
 "nbformat": 4,
 "nbformat_minor": 4
}
