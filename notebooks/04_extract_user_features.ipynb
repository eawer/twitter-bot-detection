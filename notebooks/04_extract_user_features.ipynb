{
 "cells": [
  {
   "cell_type": "code",
   "execution_count": 2,
   "metadata": {},
   "outputs": [],
   "source": [
    "import pandas as pd"
   ]
  },
  {
   "cell_type": "code",
   "execution_count": 3,
   "metadata": {},
   "outputs": [],
   "source": [
    "users = pd.read_pickle('data/03_primary/users.pkl')"
   ]
  },
  {
   "cell_type": "code",
   "execution_count": 7,
   "metadata": {},
   "outputs": [],
   "source": [
    "features = users[[\n",
    "    \"protected\", \"followers_count\", \"friends_count\",  \"listed_count\", \"favourites_count\", \"statuses_count\",\n",
    "    \"verified\", \"default_profile\", \"default_profile_image\",\n",
    "]].copy()\n",
    "\n",
    "features[\"has_location\"] = users.location.isnull()\n",
    "features[\"has_description\"] = users.description.isnull()\n",
    "features[\"created_at_time\"] = users[\"created_at\"].dt.time\n",
    "features[\"account_active_for_days\"] = (users[\"last_status_date\"] - users[\"created_at\"]).dt.days\n",
    "features[\"has_banner\"] = ~users[\"profile_banner_url\"].isnull()\n",
    "features[\"has_profile_url\"] = ~users[\"profile_url\"].isnull()\n",
    "features[\"description_urls_count\"] = users[\"description_urls\"].str.len()\n",
    "features[\"label\"] = (users[\"label\"] == 'bot').astype(int)"
   ]
  },
  {
   "cell_type": "code",
   "execution_count": 8,
   "metadata": {},
   "outputs": [],
   "source": [
    "features.to_pickle('data/04_features/users.pkl')"
   ]
  },
  {
   "cell_type": "code",
   "execution_count": null,
   "metadata": {},
   "outputs": [],
   "source": []
  }
 ],
 "metadata": {
  "kernelspec": {
   "display_name": "twitterbotdetection",
   "language": "python",
   "name": "python3"
  },
  "language_info": {
   "codemirror_mode": {
    "name": "ipython",
    "version": 3
   },
   "file_extension": ".py",
   "mimetype": "text/x-python",
   "name": "python",
   "nbconvert_exporter": "python",
   "pygments_lexer": "ipython3",
   "version": "3.7.6"
  }
 },
 "nbformat": 4,
 "nbformat_minor": 4
}
