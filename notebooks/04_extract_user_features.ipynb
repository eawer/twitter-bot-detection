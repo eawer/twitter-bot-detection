{
 "cells": [
  {
   "cell_type": "code",
   "execution_count": 3,
   "metadata": {},
   "outputs": [],
   "source": [
    "import pandas as pd\n",
    "from twitter_bot_detection.helpers import log_running_time\n",
    "from kedro.io import PickleLocalDataSet\n",
    "from catboost.text_processing import Tokenizer"
   ]
  },
  {
   "cell_type": "code",
   "execution_count": 4,
   "metadata": {},
   "outputs": [],
   "source": [
    "users = pd.read_pickle('data/03_primary/users.pkl')"
   ]
  },
  {
   "cell_type": "code",
   "execution_count": 5,
   "metadata": {},
   "outputs": [],
   "source": [
    "def count_char_types(string):\n",
    "    flags = [0, 0, 0, 0]\n",
    "    for c in string:\n",
    "        if c.islower():\n",
    "            flags[0] = 1\n",
    "        elif c.isupper():\n",
    "            flags[1] = 1\n",
    "        elif c.isdigit():\n",
    "            flags[2] = 1\n",
    "        else:\n",
    "            flags[3] = 1\n",
    "        \n",
    "    return sum(flags)"
   ]
  },
  {
   "cell_type": "code",
   "execution_count": 6,
   "metadata": {},
   "outputs": [
    {
     "name": "stdout",
     "output_type": "stream",
     "text": [
      "2020-03-13 16:06:11,403 - numexpr.utils - INFO - NumExpr defaulting to 8 threads.\n"
     ]
    }
   ],
   "source": [
    "features = users[[\n",
    "    \"protected\", \"followers_count\", \"friends_count\",  \"listed_count\", \"favourites_count\", \"statuses_count\",\n",
    "    \"verified\", \"default_profile\", \"default_profile_image\",\n",
    "]].copy()\n",
    "\n",
    "features[\"protected\"] = features[\"protected\"].astype(int)\n",
    "features[\"verified\"] = features[\"verified\"].astype(int)\n",
    "features[\"default_profile\"] = features[\"default_profile\"].astype(int)\n",
    "features[\"default_profile_image\"] = features[\"default_profile_image\"].astype(int)\n",
    "\n",
    "\n",
    "features[\"char_types\"] = users[\"screen_name\"].apply(count_char_types)\n",
    "features[\"has_location\"] = (users.location != '').astype(int)\n",
    "features[\"has_description\"] = (users.description != '').astype(int)\n",
    "features[\"created_at_time\"] = pd.cut(users[\"created_at\"].dt.hour, [-1, 6, 11, 18, 23], labels=[\"night\", \"morning\", \"day\", \"evening\"])\n",
    "features[\"account_active_for_days\"] = (users[\"last_status_date\"] - users[\"created_at\"]).dt.days\n",
    "features[\"has_banner\"] = ~users[\"profile_banner_url\"].isnull().astype(int)\n",
    "features[\"has_profile_url\"] = ~users[\"profile_url\"].isnull().astype(int)\n",
    "features[\"description_urls_count\"] = users[\"description_urls\"].str.len()\n",
    "features[\"label\"] = (users[\"label\"] == 'bot').astype(int)\n",
    "\n",
    "features[\"tweets_per_day\"] = (users[\"statuses_count\"] + 0.001) / (features[\"account_active_for_days\"] + 0.001)\n",
    "features[\"favourites_per_day\"] = (users[\"favourites_count\"] + 0.001) / (features[\"account_active_for_days\"] + 0.001)\n",
    "features[\"fr_to_flw_ratio\"] = (users[\"friends_count\"] + 0.001) / (users[\"followers_count\"] + 0.001)\n",
    "features[\"faw_to_tweets_ratio\"] = (users[\"favourites_count\"] + 0.001) / (users[\"statuses_count\"] + 0.001)\n",
    "features[\"tweets_to_faw_ratio\"] = (users[\"statuses_count\"] + 0.001) / (users[\"favourites_count\"] + 0.001)\n",
    "# features[\"listed_count_cat\"] = pd.cut(users[\"listed_count\"], [-1, 100, 500, 2000, 5000, 10000, float('inf')], labels=['100', '500', '2000', '5000', '10000', 'inf']).astype(str)\n",
    "\n",
    "features = pd.get_dummies(features, columns=[\"created_at_time\"])\n"
   ]
  },
  {
   "cell_type": "code",
   "execution_count": 45,
   "metadata": {},
   "outputs": [],
   "source": [
    "features.to_pickle('data/04_features/users.pkl')"
   ]
  },
  {
   "cell_type": "code",
   "execution_count": 46,
   "metadata": {},
   "outputs": [],
   "source": [
    "@log_running_time\n",
    "def extract_user_features(users: PickleLocalDataSet) -> PickleLocalDataSet:\n",
    "    features = users[[\n",
    "        \"protected\", \"followers_count\", \"friends_count\",  \"listed_count\", \"favourites_count\", \"statuses_count\",\n",
    "        \"verified\", \"default_profile\", \"default_profile_image\",\n",
    "    ]].copy()\n",
    "    features[\"char_types\"] = users[\"screen_name\"].apply(count_char_types)\n",
    "    features[\"has_location\"] = users.location != ''\n",
    "    features[\"has_description\"] = users.description != ''\n",
    "    features[\"created_at_time\"] = pd.cut(users[\"created_at\"].dt.hour, [-1, 6, 11, 18, 23], labels=[\"night\", \"morning\", \"day\", \"evening\"])\n",
    "    features[\"account_active_for_days\"] = (users[\"last_status_date\"] - users[\"created_at\"]).dt.days\n",
    "    features[\"has_banner\"] = ~users[\"profile_banner_url\"].isnull()\n",
    "    features[\"has_profile_url\"] = ~users[\"profile_url\"].isnull()\n",
    "    features[\"description_urls_count\"] = users[\"description_urls\"].str.len()\n",
    "    features[\"label\"] = (users[\"label\"] == 'bot').astype(int)\n",
    "\n",
    "    features[\"tweets_per_day\"] = users[\"statuses_count\"] / (features[\"account_active_for_days\"] + 0.0000001)\n",
    "    features[\"favourites_per_day\"] = users[\"favourites_count\"] / (features[\"account_active_for_days\"] + 0.0000001)\n",
    "    features[\"fr_to_flw_ratio\"] = users[\"friends_count\"] / (users[\"followers_count\"] + 0.0000001)\n",
    "    features[\"faw_to_tweets_ratio\"] = users[\"favourites_count\"] / (users[\"statuses_count\"] + 0.0000001)\n",
    "    features[\"tweets_to_faw_ratio\"] = users[\"statuses_count\"] / (users[\"favourites_count\"] + 0.0000001)\n",
    "    # features[\"listed_count_cat\"] = pd.cut(users[\"listed_count\"], [-1, 100, 500, 2000, 5000, 10000, float('inf')], labels=['100', '500', '2000', '5000', '10000', 'inf']).astype(str)\n",
    "\n",
    "    return features.drop(columns=[\"protected\"])"
   ]
  },
  {
   "cell_type": "code",
   "execution_count": 22,
   "metadata": {},
   "outputs": [
    {
     "name": "stdout",
     "output_type": "stream",
     "text": [
      "2020-03-10 23:09:28,816 - twitter_bot_detection.helpers - INFO - Running 'extract_user_features' took 0.04 seconds\n"
     ]
    }
   ],
   "source": [
    "extract_user_features(users).to_pickle('data/04_features/user_features.pkl')"
   ]
  },
  {
   "cell_type": "code",
   "execution_count": null,
   "metadata": {},
   "outputs": [],
   "source": []
  }
 ],
 "metadata": {
  "kernelspec": {
   "display_name": "twitterbotdetection",
   "language": "python",
   "name": "python3"
  },
  "language_info": {
   "codemirror_mode": {
    "name": "ipython",
    "version": 3
   },
   "file_extension": ".py",
   "mimetype": "text/x-python",
   "name": "python",
   "nbconvert_exporter": "python",
   "pygments_lexer": "ipython3",
   "version": "3.7.6"
  }
 },
 "nbformat": 4,
 "nbformat_minor": 4
}
