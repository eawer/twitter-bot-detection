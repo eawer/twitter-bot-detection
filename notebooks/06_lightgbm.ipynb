{
 "cells": [
  {
   "cell_type": "code",
   "execution_count": 54,
   "metadata": {},
   "outputs": [],
   "source": [
    "import joblib\n",
    "import mlflow\n",
    "import pandas as pd\n",
    "import numpy as np\n",
    "import lightgbm as lgb\n",
    "from kedro.io import PickleLocalDataSet\n",
    "from catboost import CatBoostClassifier, cv, Pool\n",
    "from twitter_bot_detection.helpers import log_running_time\n",
    "from eli5 import explain_prediction, explain_weights\n",
    "\n",
    "from sklearn.metrics import accuracy_score, classification_report, f1_score"
   ]
  },
  {
   "cell_type": "code",
   "execution_count": 55,
   "metadata": {},
   "outputs": [],
   "source": [
    "X_train = pd.read_pickle(\"data/05_model_input/X_train.pkl\")\n",
    "X_test = pd.read_pickle(\"data/05_model_input/X_test.pkl\")\n",
    "y_train = pd.read_pickle(\"data/05_model_input/y_train.pkl\")\n",
    "y_test = pd.read_pickle(\"data/05_model_input/y_test.pkl\")"
   ]
  },
  {
   "cell_type": "code",
   "execution_count": 56,
   "metadata": {},
   "outputs": [],
   "source": [
    "# @log_running_time\n",
    "def train_lightgbm(X_train: PickleLocalDataSet, X_test: PickleLocalDataSet, y_train: PickleLocalDataSet, y_test: PickleLocalDataSet, log=False) -> PickleLocalDataSet:\n",
    "    features = X_train.columns.values\n",
    "    train_data = lgb.Dataset(X_train, label=y_train)\n",
    "    validation_data = train_data.create_valid(X_test, label=y_test)\n",
    "\n",
    "    params = {\n",
    "        'num_leaves': 31,\n",
    "        'objective': 'binary',\n",
    "        'metric': 'binary_logloss',\n",
    "    }\n",
    "    num_round = 2000\n",
    "    early_stopping_rounds=30\n",
    "    \n",
    "    \n",
    "    model = lgb.train(params, train_data, num_round, valid_sets=[validation_data], early_stopping_rounds=early_stopping_rounds, verbose_eval=200)\n",
    "\n",
    "    y_pred = np.round(model.predict(X_test))\n",
    "\n",
    "    f1 = f1_score(y_test, y_pred, average=\"weighted\")        \n",
    "    \n",
    "    joblib.dump(model, 'data/06_models/lightgbm.pkl')\n",
    "\n",
    "#     model.save_model('data/06_models/lightgbm.txt', num_iteration=model.best_iteration)\n",
    "\n",
    "    print(classification_report(y_test, y_pred, digits=5))\n",
    "    if log:\n",
    "        mlflow.set_tracking_uri(\"databricks\")\n",
    "        mlflow.set_experiment(\"/Users/firefly.eugene@gmail.com/twitter-bot-detection\")\n",
    "\n",
    "        run_id = mlflow.search_runs(experiment_ids=\"3889491181315524\", filter_string=\"tags.`mlflow.runName`='lightgbm'\", run_view_type=1)[\"run_id\"][0]\n",
    "        mlflow.start_run(run_id=run_id, nested=False)\n",
    "#         mlflow.start_run(run_name='lightgbm', nested=False)\n",
    "\n",
    "        with mlflow.start_run(nested=True):\n",
    "            mlflow.set_tags({\n",
    "                \"lib\": \"lihgtgbm\",\n",
    "                \"features\": features,\n",
    "            })\n",
    "\n",
    "            mlflow.log_params(params)\n",
    "            mlflow.log_param(\"num_round\", num_round)\n",
    "            mlflow.log_param(\"early_stopping_rounds\", early_stopping_rounds)\n",
    "            mlflow.log_metric(\"f1\", f1, 1)\n",
    "            mlflow.log_artifact('data/05_model_input/X_test.pkl')\n",
    "        mlflow.end_run()\n",
    "    \n",
    "    return model"
   ]
  },
  {
   "cell_type": "code",
   "execution_count": 57,
   "metadata": {},
   "outputs": [
    {
     "name": "stdout",
     "output_type": "stream",
     "text": [
      "Training until validation scores don't improve for 30 rounds\n",
      "[200]\tvalid_0's binary_logloss: 0.179344\n",
      "Early stopping, best iteration is:\n",
      "[250]\tvalid_0's binary_logloss: 0.178987\n",
      "              precision    recall  f1-score   support\n",
      "\n",
      "           0    0.92804   0.97063   0.94886      4903\n",
      "           1    0.93404   0.84676   0.88826      2408\n",
      "\n",
      "    accuracy                        0.92983      7311\n",
      "   macro avg    0.93104   0.90870   0.91856      7311\n",
      "weighted avg    0.93002   0.92983   0.92890      7311\n",
      "\n"
     ]
    }
   ],
   "source": [
    "m = train_lightgbm(X_train, X_test, y_train, y_test, log=True);"
   ]
  },
  {
   "cell_type": "code",
   "execution_count": 53,
   "metadata": {},
   "outputs": [
    {
     "data": {
      "text/html": [
       "\n",
       "    <style>\n",
       "    table.eli5-weights tr:hover {\n",
       "        filter: brightness(85%);\n",
       "    }\n",
       "</style>\n",
       "\n",
       "\n",
       "\n",
       "    \n",
       "\n",
       "    \n",
       "\n",
       "    \n",
       "\n",
       "    \n",
       "\n",
       "    \n",
       "\n",
       "    \n",
       "\n",
       "\n",
       "    \n",
       "\n",
       "    \n",
       "\n",
       "    \n",
       "\n",
       "    \n",
       "\n",
       "    \n",
       "\n",
       "    \n",
       "\n",
       "\n",
       "    \n",
       "\n",
       "    \n",
       "\n",
       "    \n",
       "\n",
       "    \n",
       "\n",
       "    \n",
       "\n",
       "    \n",
       "\n",
       "\n",
       "    \n",
       "\n",
       "    \n",
       "\n",
       "    \n",
       "\n",
       "    \n",
       "\n",
       "    \n",
       "\n",
       "    \n",
       "\n",
       "\n",
       "\n",
       "\n",
       "    <div style=\"background-color: #fdd; padding: 0.5em;\">\n",
       "        Error: estimator <lightgbm.basic.Booster object at 0x7f2946f5abd0> is not supported\n",
       "    </div>\n"
      ],
      "text/plain": [
       "Explanation(estimator='<lightgbm.basic.Booster object at 0x7f2946f5abd0>', description=None, error='estimator <lightgbm.basic.Booster object at 0x7f2946f5abd0> is not supported', method=None, is_regression=False, targets=None, feature_importances=None, decision_tree=None, highlight_spaces=None, transition_features=None, image=None)"
      ]
     },
     "execution_count": 53,
     "metadata": {},
     "output_type": "execute_result"
    }
   ],
   "source": [
    "explain_weights(m, X_test.iloc[0])"
   ]
  },
  {
   "cell_type": "code",
   "execution_count": 45,
   "metadata": {},
   "outputs": [
    {
     "data": {
      "text/plain": [
       "<lightgbm.basic.Booster at 0x7f294690d990>"
      ]
     },
     "execution_count": 45,
     "metadata": {},
     "output_type": "execute_result"
    }
   ],
   "source": [
    "#eli5, shapley values\n",
    "m"
   ]
  },
  {
   "cell_type": "code",
   "execution_count": null,
   "metadata": {},
   "outputs": [],
   "source": []
  }
 ],
 "metadata": {
  "kernelspec": {
   "display_name": "twitterbotdetection",
   "language": "python",
   "name": "python3"
  },
  "language_info": {
   "codemirror_mode": {
    "name": "ipython",
    "version": 3
   },
   "file_extension": ".py",
   "mimetype": "text/x-python",
   "name": "python",
   "nbconvert_exporter": "python",
   "pygments_lexer": "ipython3",
   "version": "3.7.6"
  }
 },
 "nbformat": 4,
 "nbformat_minor": 4
}
