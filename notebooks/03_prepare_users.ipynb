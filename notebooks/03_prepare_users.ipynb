{
 "cells": [
  {
   "cell_type": "code",
   "execution_count": 22,
   "metadata": {},
   "outputs": [],
   "source": [
    "import pandas as pd"
   ]
  },
  {
   "cell_type": "code",
   "execution_count": 23,
   "metadata": {},
   "outputs": [],
   "source": [
    "users = pd.read_pickle('data/02_intermediate/users.pkl')"
   ]
  },
  {
   "cell_type": "code",
   "execution_count": 24,
   "metadata": {},
   "outputs": [],
   "source": [
    "deprecated = [\"utc_offset\", \"time_zone\", \"lang\", \"geo_enabled\", \"following\", \"follow_request_sent\", \"has_extended_profile\", \"notifications\", \"profile_location\", \"contributors_enabled\", \"profile_image_url\", \"profile_background_color\", \"profile_background_image_url\", \"profile_background_image_url_https\", \"profile_background_tile\", \"profile_link_color\", \"profile_sidebar_border_color\", \"profile_sidebar_fill_color\", \"profile_text_color\", \"profile_use_background_image\", \"is_translator\", \"is_translation_enabled\", \"translator_type\"]\n",
    "users.drop(columns=deprecated, inplace=True)"
   ]
  },
  {
   "cell_type": "code",
   "execution_count": 25,
   "metadata": {},
   "outputs": [],
   "source": [
    "def extract_urls(entities):\n",
    "    profile_url = None\n",
    "    if \"url\" in entities:\n",
    "        url = entities[\"url\"][\"urls\"][0]\n",
    "        profile_url = url[\"expanded_url\"] if url[\"expanded_url\"] else url[\"url\"] \n",
    "    description_urls = [url[\"expanded_url\"] for url in entities[\"description\"][\"urls\"] if url]\n",
    "    \n",
    "    return pd.Series([profile_url, description_urls])"
   ]
  },
  {
   "cell_type": "code",
   "execution_count": 26,
   "metadata": {},
   "outputs": [],
   "source": [
    "#extracting date of last tweet\n",
    "users[\"last_status_date\"] = pd.to_datetime(users[\"status\"].apply(lambda x: None if pd.isnull(x) else x[\"created_at\"]))"
   ]
  },
  {
   "cell_type": "code",
   "execution_count": 28,
   "metadata": {},
   "outputs": [],
   "source": [
    "#extracting expanded profile url and urls from the description \n",
    "users[[\"profile_url\", \"description_urls\"]] = users[\"entities\"].apply(extract_urls)"
   ]
  },
  {
   "cell_type": "code",
   "execution_count": 29,
   "metadata": {},
   "outputs": [],
   "source": [
    "users.drop(['idx', 'status', 'entities', 'url'], axis=1, inplace=True)"
   ]
  },
  {
   "cell_type": "code",
   "execution_count": 31,
   "metadata": {},
   "outputs": [],
   "source": [
    "#removing old accounts with no tweets publicly available\n",
    "users = users[~users[\"last_status_date\"].isnull()]"
   ]
  },
  {
   "cell_type": "code",
   "execution_count": 32,
   "metadata": {},
   "outputs": [],
   "source": [
    "users.to_pickle('data/03_primary/users.pkl')"
   ]
  }
 ],
 "metadata": {
  "kernelspec": {
   "display_name": "twitterbotdetection",
   "language": "python",
   "name": "python3"
  },
  "language_info": {
   "codemirror_mode": {
    "name": "ipython",
    "version": 3
   },
   "file_extension": ".py",
   "mimetype": "text/x-python",
   "name": "python",
   "nbconvert_exporter": "python",
   "pygments_lexer": "ipython3",
   "version": "3.7.6"
  }
 },
 "nbformat": 4,
 "nbformat_minor": 4
}
