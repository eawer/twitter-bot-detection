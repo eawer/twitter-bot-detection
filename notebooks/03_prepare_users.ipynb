{
 "cells": [
  {
   "cell_type": "code",
   "execution_count": 1,
   "metadata": {},
   "outputs": [],
   "source": [
    "import pandas as pd\n",
    "from twitter_bot_detection.helpers import log_running_time, extract_urls\n",
    "from kedro.io import PickleLocalDataSet"
   ]
  },
  {
   "cell_type": "code",
   "execution_count": 12,
   "metadata": {},
   "outputs": [],
   "source": [
    "users = pd.read_pickle('data/02_intermediate/users.pkl')"
   ]
  },
  {
   "cell_type": "code",
   "execution_count": 13,
   "metadata": {},
   "outputs": [],
   "source": [
    "@log_running_time\n",
    "def prepare_users(users: PickleLocalDataSet) -> PickleLocalDataSet:\n",
    "    deprecated = [\"utc_offset\", \"time_zone\", \"lang\", \"geo_enabled\", \"following\", \"follow_request_sent\", \"has_extended_profile\", \"notifications\", \"profile_location\", \"contributors_enabled\", \"profile_image_url\", \"profile_background_color\", \"profile_background_image_url\", \"profile_background_image_url_https\", \"profile_background_tile\", \"profile_link_color\", \"profile_sidebar_border_color\", \"profile_sidebar_fill_color\", \"profile_text_color\", \"profile_use_background_image\", \"is_translator\", \"is_translation_enabled\", \"translator_type\"]\n",
    "    \n",
    "    #extracting date of last tweet\n",
    "    users[\"last_status_date\"] = pd.to_datetime(users[\"status\"].apply(lambda x: None if pd.isnull(x) else x[\"created_at\"]))\n",
    "    \n",
    "    #extracting expanded profile url and urls from the description \n",
    "    users[[\"profile_url\", \"description_urls\"]] = users[\"entities\"].apply(extract_urls)\n",
    "    \n",
    "    #removing old accounts with no tweets publicly available\n",
    "    users = users[~users[\"last_status_date\"].isnull()]\n",
    "\n",
    "    users.drop(columns=(deprecated + ['id', 'status', 'entities', 'url']), inplace=True)\n",
    "\n",
    "    return users"
   ]
  },
  {
   "cell_type": "code",
   "execution_count": 14,
   "metadata": {},
   "outputs": [
    {
     "name": "stdout",
     "output_type": "stream",
     "text": [
      "2020-03-09 16:38:19,576 - twitter_bot_detection.helpers - INFO - Running 'prepare_users' took 14.79 seconds\n"
     ]
    },
    {
     "name": "stderr",
     "output_type": "stream",
     "text": [
      "/home/eugene/anaconda3/envs/twitter-bot-detection/lib/python3.7/site-packages/pandas/core/frame.py:3997: SettingWithCopyWarning: \n",
      "A value is trying to be set on a copy of a slice from a DataFrame\n",
      "\n",
      "See the caveats in the documentation: https://pandas.pydata.org/pandas-docs/stable/user_guide/indexing.html#returning-a-view-versus-a-copy\n",
      "  errors=errors,\n"
     ]
    }
   ],
   "source": [
    "prepare_users(users).to_pickle('data/03_primary/users.pkl')"
   ]
  }
 ],
 "metadata": {
  "kernelspec": {
   "display_name": "twitterbotdetection",
   "language": "python",
   "name": "python3"
  },
  "language_info": {
   "codemirror_mode": {
    "name": "ipython",
    "version": 3
   },
   "file_extension": ".py",
   "mimetype": "text/x-python",
   "name": "python",
   "nbconvert_exporter": "python",
   "pygments_lexer": "ipython3",
   "version": "3.7.6"
  }
 },
 "nbformat": 4,
 "nbformat_minor": 4
}
