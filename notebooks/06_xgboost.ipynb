{
 "cells": [
  {
   "cell_type": "code",
   "execution_count": 52,
   "metadata": {},
   "outputs": [],
   "source": [
    "import mlflow\n",
    "import numpy as np\n",
    "import pandas as pd\n",
    "import xgboost as xgb\n",
    "\n",
    "from sklearn.metrics import accuracy_score, classification_report, f1_score\n",
    "from sklearn.model_selection import train_test_split, StratifiedKFold"
   ]
  },
  {
   "cell_type": "code",
   "execution_count": 2,
   "metadata": {},
   "outputs": [],
   "source": [
    "mlflow.set_tracking_uri(\"databricks\")\n",
    "mlflow.set_experiment(\"/Users/firefly.eugene@gmail.com/twitter-bot-detection\")"
   ]
  },
  {
   "cell_type": "code",
   "execution_count": 53,
   "metadata": {},
   "outputs": [],
   "source": [
    "users = pd.read_pickle(\"data/04_features/users.pkl\")"
   ]
  },
  {
   "cell_type": "code",
   "execution_count": 70,
   "metadata": {},
   "outputs": [],
   "source": [
    "def run_xgboost(users, cat_features=[]):\n",
    "    users = pd.get_dummies(users, columns=cat_features)\n",
    "    X = users.drop(columns=[\"label\"])\n",
    "    y = users[\"label\"]\n",
    "    X_train, X_test, y_train, y_test = train_test_split(X, y, test_size=0.2, random_state=1)\n",
    "\n",
    "    run_id = mlflow.search_runs(experiment_ids=\"3889491181315524\", filter_string=\"tags.`mlflow.runName`='xgboost'\", run_view_type=1)[\"run_id\"][0]    \n",
    "    mlflow.end_run()\n",
    "    mlflow.start_run(run_id=run_id, nested=False)\n",
    "\n",
    "    with mlflow.start_run(nested=True):\n",
    "        mlflow.set_tags({\n",
    "            \"lib\": \"xgboost\",\n",
    "            \"description\": \"listed_count_cat added\",\n",
    "            \"features\": users.columns.values,\n",
    "        })\n",
    "\n",
    "\n",
    "        params = {\n",
    "            'booster': 'dart',\n",
    "            'max_depth': 5, \n",
    "            'learning_rate': 0.02,\n",
    "            'objective': 'binary:logistic',\n",
    "            'sample_type': 'uniform',\n",
    "            'normalize_type': 'tree',\n",
    "            'tree_method': 'gpu_hist',\n",
    "            'rate_drop': 0.1,\n",
    "            'skip_drop': 0.5,\n",
    "            'eval_metric': 'logloss',\n",
    "            'nthread': 8,\n",
    "        }\n",
    "\n",
    "        xgb_train = xgb.DMatrix(X_train, label=y_train)\n",
    "        xgb_test = xgb.DMatrix(X_test, label=y_test, feature_names=X.columns)\n",
    "        num_round = 50\n",
    "        model = xgb.train(params, xgb_train, num_round)\n",
    "        y_pred = model.predict(xgb_test)\n",
    "\n",
    "        f1 = f1_score(y_test, np.round(y_pred), average=\"weighted\")\n",
    "\n",
    "        mlflow.log_param(\"cat_features\", cat_features)  \n",
    "        mlflow.log_params(params)  \n",
    "        mlflow.log_metric(\"f1\", f1, 1)\n",
    "        mlflow.log_artifact('data/04_features/users.pkl')\n",
    "\n",
    "        model.save_model('data/06_models/xgboost.model')\n",
    "        print(classification_report(y_test, np.round(y_pred)))\n",
    "    mlflow.end_run()\n",
    "    return f1"
   ]
  },
  {
   "cell_type": "code",
   "execution_count": 71,
   "metadata": {},
   "outputs": [
    {
     "name": "stdout",
     "output_type": "stream",
     "text": [
      "              precision    recall  f1-score   support\n",
      "\n",
      "           0       0.86      0.96      0.91      4948\n",
      "           1       0.88      0.67      0.76      2368\n",
      "\n",
      "    accuracy                           0.86      7316\n",
      "   macro avg       0.87      0.81      0.83      7316\n",
      "weighted avg       0.87      0.86      0.86      7316\n",
      "\n",
      "CPU times: user 3.38 s, sys: 180 ms, total: 3.56 s\n",
      "Wall time: 21.8 s\n"
     ]
    },
    {
     "data": {
      "text/plain": [
       "0.859392324633081"
      ]
     },
     "execution_count": 71,
     "metadata": {},
     "output_type": "execute_result"
    }
   ],
   "source": [
    "%%time\n",
    "run_xgboost(users, cat_features=[\"created_at_time\", \"listed_count_cat\"])"
   ]
  },
  {
   "cell_type": "code",
   "execution_count": null,
   "metadata": {},
   "outputs": [],
   "source": []
  }
 ],
 "metadata": {
  "kernelspec": {
   "display_name": "twitterbotdetection",
   "language": "python",
   "name": "python3"
  },
  "language_info": {
   "codemirror_mode": {
    "name": "ipython",
    "version": 3
   },
   "file_extension": ".py",
   "mimetype": "text/x-python",
   "name": "python",
   "nbconvert_exporter": "python",
   "pygments_lexer": "ipython3",
   "version": "3.7.6"
  }
 },
 "nbformat": 4,
 "nbformat_minor": 4
}
