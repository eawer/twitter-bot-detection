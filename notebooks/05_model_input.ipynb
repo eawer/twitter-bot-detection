{
 "cells": [
  {
   "cell_type": "code",
   "execution_count": 2,
   "metadata": {
    "tags": [
     "node"
    ]
   },
   "outputs": [],
   "source": [
    "import pandas as pd\n",
    "from kedro.io import PickleLocalDataSet\n",
    "from sklearn.model_selection import train_test_split\n",
    "from twitter_bot_detection.helpers import log_running_time"
   ]
  },
  {
   "cell_type": "code",
   "execution_count": 7,
   "metadata": {},
   "outputs": [],
   "source": [
    "user_features = pd.read_pickle(\"data/04_features/user_features.pkl\")\n",
    "tweets_features = pd.read_pickle(\"data/04_features/tweets_features.pkl\")"
   ]
  },
  {
   "cell_type": "code",
   "execution_count": 15,
   "metadata": {
    "tags": [
     "node"
    ]
   },
   "outputs": [],
   "source": [
    "@log_running_time\n",
    "def split_dataset(user_features: PickleLocalDataSet, tweets_features: PickleLocalDataSet, test_size: str, random_state: int) -> [PickleLocalDataSet, PickleLocalDataSet, PickleLocalDataSet, PickleLocalDataSet]:\n",
    "    df = pd.concat([user_features, tweets_features], axis=1, join='inner')\n",
    "    X = df.drop(columns=[\"label\"])\n",
    "    y = df[\"label\"]\n",
    "    return train_test_split(X, y, test_size=test_size, random_state=random_state, stratify=y)"
   ]
  },
  {
   "cell_type": "code",
   "execution_count": null,
   "metadata": {},
   "outputs": [],
   "source": [
    "split_dataset(user_features, tweets_features, context.params[\"test_size\"], context.params[\"random_state\"])"
   ]
  },
  {
   "cell_type": "code",
   "execution_count": null,
   "metadata": {},
   "outputs": [],
   "source": []
  }
 ],
 "metadata": {
  "kernelspec": {
   "display_name": "twitterbotdetection",
   "language": "python",
   "name": "python3"
  },
  "language_info": {
   "codemirror_mode": {
    "name": "ipython",
    "version": 3
   },
   "file_extension": ".py",
   "mimetype": "text/x-python",
   "name": "python",
   "nbconvert_exporter": "python",
   "pygments_lexer": "ipython3",
   "version": "3.7.6"
  }
 },
 "nbformat": 4,
 "nbformat_minor": 4
}
